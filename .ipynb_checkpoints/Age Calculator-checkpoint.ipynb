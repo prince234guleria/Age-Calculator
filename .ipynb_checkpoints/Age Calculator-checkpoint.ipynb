{
 "cells": [
  {
   "cell_type": "markdown",
   "id": "83236a4c",
   "metadata": {},
   "source": [
    "# Age Calculator \n"
   ]
  },
  {
   "cell_type": "code",
   "execution_count": 1,
   "id": "5af9c899",
   "metadata": {},
   "outputs": [],
   "source": [
    "# -----------------------------------------\n",
    "# Import Required Modules\n",
    "# -----------------------------------------\n",
    "import datetime               # For date calculation\n",
    "import tkinter as tk          # For GUI interface\n",
    "from PIL import Image, ImageTk  # For handling images in tkinter"
   ]
  },
  {
   "cell_type": "code",
   "execution_count": 2,
   "id": "40110501",
   "metadata": {},
   "outputs": [
    {
     "data": {
      "text/plain": [
       "''"
      ]
     },
     "execution_count": 2,
     "metadata": {},
     "output_type": "execute_result"
    }
   ],
   "source": [
    "# -----------------------------------------\n",
    "# Set Up the Main Window\n",
    "# -----------------------------------------\n",
    "window = tk.Tk()\n",
    "window.geometry(\"620x780\")    # Window size\n",
    "window.title(\" Age Calculator App \")  # Title of the app"
   ]
  },
  {
   "cell_type": "code",
   "execution_count": 3,
   "id": "39399dee",
   "metadata": {},
   "outputs": [],
   "source": [
    "# -----------------------------------------\n",
    "# Labels for User Input Fields\n",
    "# -----------------------------------------\n",
    "name = tk.Label(text=\"Name\")\n",
    "name.grid(column=0, row=1)\n",
    "\n",
    "year = tk.Label(text=\"Year\")\n",
    "year.grid(column=0, row=2)\n",
    "\n",
    "month = tk.Label(text=\"Month\")\n",
    "month.grid(column=0, row=3)\n",
    "\n",
    "date = tk.Label(text=\"Day\")\n",
    "date.grid(column=0, row=4)"
   ]
  },
  {
   "cell_type": "code",
   "execution_count": 4,
   "id": "7ea96fc9",
   "metadata": {},
   "outputs": [],
   "source": [
    "# -----------------------------------------\n",
    "# Entry Fields for User Input\n",
    "# -----------------------------------------\n",
    "nameEntry = tk.Entry()\n",
    "nameEntry.grid(column=1, row=1)\n",
    "\n",
    "yearEntry = tk.Entry()\n",
    "yearEntry.grid(column=1, row=2)\n",
    "\n",
    "monthEntry = tk.Entry()\n",
    "monthEntry.grid(column=1, row=3)\n",
    "\n",
    "dateEntry = tk.Entry()\n",
    "dateEntry.grid(column=1, row=4)"
   ]
  },
  {
   "cell_type": "code",
   "execution_count": 5,
   "id": "0d6b7498",
   "metadata": {},
   "outputs": [],
   "source": [
    "# -----------------------------------------\n",
    "# Person Class to Calculate Age\n",
    "# -----------------------------------------\n",
    "class Person:\n",
    "    def __init__(self, name, birthdate):\n",
    "        self.name = name\n",
    "        self.birthdate = birthdate\n",
    "\n",
    "    def age(self):\n",
    "        today = datetime.date.today()\n",
    "        age = today.year - self.birthdate.year\n",
    "        return age\n"
   ]
  },
  {
   "cell_type": "code",
   "execution_count": 6,
   "id": "2220528c",
   "metadata": {},
   "outputs": [],
   "source": [
    "# -----------------------------------------\n",
    "# Function to Handle Button Click and Display Age\n",
    "# -----------------------------------------\n",
    "def getInput():\n",
    "    name = nameEntry.get()\n",
    "    # Create Person object using input from entry fields\n",
    "    monkey = Person(name, datetime.date(\n",
    "        int(yearEntry.get()), int(monthEntry.get()), int(dateEntry.get())\n",
    "    ))\n"
   ]
  },
  {
   "cell_type": "code",
   "execution_count": 9,
   "id": "3e6aa7b2",
   "metadata": {},
   "outputs": [],
   "source": [
    "def getInput():\n",
    "    name = nameEntry.get()\n",
    "    monkey = Person(name, datetime.date(\n",
    "        int(yearEntry.get()), int(monthEntry.get()), int(dateEntry.get())\n",
    "    ))\n",
    "\n",
    "    # Text box to display the result\n",
    "    textArea = tk.Text(master=window, height=10, width=25)\n",
    "    textArea.grid(column=1, row=6)\n",
    "\n",
    "    answer = \" Heyy {monkey}!!! You are {age} years old!!! \".format(\n",
    "        monkey=name, age=monkey.age()\n",
    "    )\n",
    "    textArea.insert(tk.END, answer)\n"
   ]
  },
  {
   "cell_type": "code",
   "execution_count": 11,
   "id": "e22ef7f5",
   "metadata": {},
   "outputs": [],
   "source": [
    "# -----------------------------------------\n",
    "# Button to Trigger Age Calculation\n",
    "# -----------------------------------------\n",
    "button = tk.Button(window, text=\"Calculate Age\", command=getInput, bg=\"pink\")\n",
    "button.grid(column=1, row=5)"
   ]
  },
  {
   "cell_type": "code",
   "execution_count": 14,
   "id": "af95df3f",
   "metadata": {
    "scrolled": true
   },
   "outputs": [],
   "source": [
    "# -----------------------------------------\n",
    "# Load and Display an Image\n",
    "# -----------------------------------------\n",
    "image = Image.open('mahakaal 2.jpg')                     # Load image file\n",
    "image.thumbnail((200, 500), Image.ANTIALIAS)             # Resize to fit the window\n",
    "photo = ImageTk.PhotoImage(image)                        # Convert for tkinter\n",
    "label_image = tk.Label(image=photo)                      # Display image in label\n",
    "label_image.grid(column=1, row=0) "
   ]
  },
  {
   "cell_type": "code",
   "execution_count": 15,
   "id": "4b3307e7",
   "metadata": {},
   "outputs": [],
   "source": [
    "# -----------------------------------------\n",
    "# Start the GUI Event Loop\n",
    "# -----------------------------------------\n",
    "window.mainloop()"
   ]
  },
  {
   "cell_type": "code",
   "execution_count": null,
   "id": "e58a3bb3",
   "metadata": {},
   "outputs": [],
   "source": []
  },
  {
   "cell_type": "code",
   "execution_count": null,
   "id": "fdac87fa",
   "metadata": {},
   "outputs": [],
   "source": []
  },
  {
   "cell_type": "code",
   "execution_count": null,
   "id": "3e4522d8",
   "metadata": {},
   "outputs": [],
   "source": []
  }
 ],
 "metadata": {
  "kernelspec": {
   "display_name": "Python 3 (ipykernel)",
   "language": "python",
   "name": "python3"
  },
  "language_info": {
   "codemirror_mode": {
    "name": "ipython",
    "version": 3
   },
   "file_extension": ".py",
   "mimetype": "text/x-python",
   "name": "python",
   "nbconvert_exporter": "python",
   "pygments_lexer": "ipython3",
   "version": "3.9.7"
  }
 },
 "nbformat": 4,
 "nbformat_minor": 5
}
